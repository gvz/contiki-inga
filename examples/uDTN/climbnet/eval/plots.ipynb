{
 "cells": [
  {
   "cell_type": "code",
   "execution_count": 0,
   "metadata": {
    "collapsed": false
   },
   "outputs": [],
   "source": [
    "set term png size 800,600\n",
    "set xrange [0:3600]\n",
    "plot \"no_sync_10Hz_0.csv\" u ($0/10):1 w l t \"Node 1\" lt rgb \"#BE1E3E\" lw 1 ,\\\n",
    "\"no_sync_10Hz_1.csv\" u ($0/10):1 w l t \"Node 2\" lt rgb \"#acc13a\" lw 1,\\\n",
    " \"no_sync_10Hz_2.csv\" u ($0/10):1 w l t \"Node 3\" lt rgb \"#007a9b\" lw 1,\\\n",
    "\"no_sync_10Hz_3.csv\" u ($0/10):1 w l t \"Node 4\" lt rgb \"#8a307e\" lw 1\n"
   ]
  },
  {
   "cell_type": "code",
   "execution_count": 0,
   "metadata": {
    "collapsed": false
   },
   "outputs": [],
   "source": [
    "set term png size 800,600\n",
    "set xrange [0:3600]\n",
    "plot \"10s_sync_10Hz_0.csv\" u ($0/10):1 w l t \"Node 1\" lt rgb \"#BE1E3E\" lw 1 ,\\\n",
    "\"10s_sync_10Hz_1.csv\" u ($0/10):1 w l t \"Node 2\" lt rgb \"#acc13a\" lw 1,\\\n",
    " \"10s_sync_10Hz_2.csv\" u ($0/10):1 w l t \"Node 3\" lt rgb \"#007a9b\" lw 1,\\\n",
    "\"10s_sync_10Hz_3.csv\" u ($0/10):1 w l t \"Node 4\" lt rgb \"#8a307f\" lw 1"
   ]
  },
  {
   "cell_type": "markdown",
   "metadata": {},
   "source": [
    "# test"
   ]
  }
 ],
 "metadata": {
  "kernelspec": {
   "display_name": "gnuplot",
   "language": "gnuplot",
   "name": "gnuplot"
  },
  "language_info": {
   "codemirror_mode": "Octave",
   "file_extension": ".gp",
   "help_links": [
    {
     "text": "MetaKernel Magics",
     "url": "https://github.com/calysto/metakernel/blob/master/metakernel/magics/README.md"
    }
   ],
   "mimetype": "text/x-gnuplot",
   "name": "gnuplot"
  }
 },
 "nbformat": 4,
 "nbformat_minor": 1
}