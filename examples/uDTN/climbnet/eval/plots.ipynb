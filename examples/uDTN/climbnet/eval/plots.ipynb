{
 "cells": [
  {
   "cell_type": "code",
   "execution_count": 2,
   "metadata": {
    "collapsed": false
   },
   "outputs": [
    {
     "data": {
      "image/png": "[encoded data removed]",
      "text/plain": [
       "<IPython.core.display.Image object>"
      ]
     },
     "metadata": {},
     "output_type": "display_data"
    },
    {
     "data": {
      "text/plain": [
       "set term png size 800,600\n",
       "Terminal type set to 'png'\n",
       "Options are 'nocrop enhanced size 800,600 font \"/usr/share/fonts/dejavu/DejaVuSans.ttf,12\" '\n",
       "set xrange [0:3600]\n",
       "set output '/tmp/gnuplot-inline-1474451208.8826816.239924119462.png'\n",
       "plot \"no_sync_10Hz_0.csv\" u ($0/10):1 w l t \"Node 1\" lt rgb \"#BE1E3E\" lw 1 , \"no_sync_10Hz_1.csv\" u ($0/10):1 w l t \"Node 2\" lt rgb \"#acc13a\" lw 1,  \"no_sync_10Hz_2.csv\" u ($0/10):1 w l t \"Node 3\" lt rgb \"#007a9b\" lw 1, \"no_sync_10Hz_3.csv\" u ($0/10):1 w l t \"Node 4\" lt rgb \"#8a307f\" lw 1\n",
       "gnuplot> \n",
       "gnuplot> \n",
       "gnuplot> \n",
       "gnuplot> \n",
       "gnuplot> \n",
       "gnuplot> \n",
       "unset output\n"
      ]
     },
     "execution_count": 2,
     "metadata": {},
     "output_type": "execute_result"
    }
   ],
   "source": [
    "set term png size 800,600\n",
    "set xrange [0:3600]\n",
    "plot \"no_sync_10Hz_0.csv\" u ($0/10):1 w l t \"Node 1\" lt rgb \"#BE1E3E\" lw 1 ,\\\n",
    "\"no_sync_10Hz_1.csv\" u ($0/10):1 w l t \"Node 2\" lt rgb \"#acc13a\" lw 1,\\\n",
    " \"no_sync_10Hz_2.csv\" u ($0/10):1 w l t \"Node 3\" lt rgb \"#007a9b\" lw 1,\\\n",
    "\"no_sync_10Hz_3.csv\" u ($0/10):1 w l t \"Node 4\" lt rgb \"#8a307f\" lw 1\n"
   ]
  },
  {
   "cell_type": "code",
   "execution_count": 3,
   "metadata": {
    "collapsed": false
   },
   "outputs": [
    {
     "data": {
      "image/png": "[encoded data removed]",
      "text/plain": [
       "<IPython.core.display.Image object>"
      ]
     },
     "metadata": {},
     "output_type": "display_data"
    },
    {
     "data": {
      "text/plain": [
       "set term png size 800,600\n",
       "Terminal type set to 'png'\n",
       "Options are 'nocrop enhanced size 800,600 font \"/usr/share/fonts/dejavu/DejaVuSans.ttf,12\" '\n",
       "set xrange [0:3600]\n",
       "set output '/tmp/gnuplot-inline-1474451225.1230764.876808992312.png'\n",
       "plot \"10s_sync_10Hz_0.csv\" u ($0/10):1 w l t \"Node 1\" lt rgb \"#BE1E3E\" lw 1 , \"10s_sync_10Hz_1.csv\" u ($0/10):1 w l t \"Node 2\" lt rgb \"#acc13a\" lw 1,  \"10s_sync_10Hz_2.csv\" u ($0/10):1 w l t \"Node 3\" lt rgb \"#007a9b\" lw 1, \"10s_sync_10Hz_3.csv\" u ($0/10):1 w l t \"Node 4\" lt rgb \"#8a307f\" lw 1\n",
       "gnuplot> \n",
       "gnuplot> \n",
       "gnuplot> \n",
       "gnuplot> \n",
       "gnuplot> \n",
       "gnuplot> \n",
       "unset output\n"
      ]
     },
     "execution_count": 3,
     "metadata": {},
     "output_type": "execute_result"
    }
   ],
   "source": [
    "set term png size 800,600\n",
    "set xrange [0:3600]\n",
    "plot \"10s_sync_10Hz_0.csv\" u ($0/10):1 w l t \"Node 1\" lt rgb \"#BE1E3E\" lw 1 ,\\\n",
    "\"10s_sync_10Hz_1.csv\" u ($0/10):1 w l t \"Node 2\" lt rgb \"#acc13a\" lw 1,\\\n",
    " \"10s_sync_10Hz_2.csv\" u ($0/10):1 w l t \"Node 3\" lt rgb \"#007a9b\" lw 1,\\\n",
    "\"10s_sync_10Hz_3.csv\" u ($0/10):1 w l t \"Node 4\" lt rgb \"#8a307f\" lw 1"
   ]
  },
  {
   "cell_type": "markdown",
   "metadata": {},
   "source": [
    "# test"
   ]
  }
 ],
 "metadata": {
  "kernelspec": {
   "display_name": "gnuplot",
   "language": "gnuplot",
   "name": "gnuplot"
  },
  "language_info": {
   "codemirror_mode": "Octave",
   "file_extension": ".gp",
   "help_links": [
    {
     "text": "MetaKernel Magics",
     "url": "https://github.com/calysto/metakernel/blob/master/metakernel/magics/README.md"
    }
   ],
   "mimetype": "text/x-gnuplot",
   "name": "gnuplot"
  }
 },
 "nbformat": 4,
 "nbformat_minor": 1,
 "git" : { "suppress_outputs" : true }
}
